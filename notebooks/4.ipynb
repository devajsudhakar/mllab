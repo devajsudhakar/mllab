{
  "nbformat": 4,
  "nbformat_minor": 0,
  "metadata": {
    "colab": {
      "provenance": []
    },
    "kernelspec": {
      "name": "python3",
      "display_name": "Python 3"
    },
    "language_info": {
      "name": "python"
    }
  },
  "cells": [
    {
      "cell_type": "code",
      "execution_count": 24,
      "metadata": {
        "colab": {
          "base_uri": "https://localhost:8080/"
        },
        "id": "iblXP_8oayzL",
        "outputId": "f7c066c6-d07e-4613-c3cb-7636b197d1f0"
      },
      "outputs": [
        {
          "output_type": "stream",
          "name": "stdout",
          "text": [
            "  Experience Qualification   Skill  Age Hired\n",
            "0        Yes       Masters  Python   30   Yes\n",
            "1        Yes     Bachelors  Python   25   Yes\n",
            "2         No     Bachelors    Java   28    No\n",
            "3        Yes       Masters    Java   40   Yes\n",
            "4         No       Masters  Python   35    No\n"
          ]
        }
      ],
      "source": [
        "import pandas as pd\n",
        "data=pd.read_csv(\"/content/training_data.csv\")\n",
        "print(data)"
      ]
    },
    {
      "cell_type": "code",
      "source": [
        "def find_s(data):\n",
        "  attribute=data.iloc[:,:-1].values\n",
        "  target=data.iloc[:,-1].values\n",
        "  for i in range(len(target)):\n",
        "    if target[i]==\"Yes\":\n",
        "      hypo=attribute[i].copy()\n",
        "      break\n",
        "  for i in range(len(target)):\n",
        "    if target[i]==\"Yes\" :\n",
        "      for j in range(len(hypo)):\n",
        "        if hypo[j]!=attribute[i][j]:\n",
        "          hypo[j]=\"?\"\n",
        "        else:\n",
        "          pass\n",
        "  return hypo"
      ],
      "metadata": {
        "id": "RAd0PkxkbGDf"
      },
      "execution_count": 33,
      "outputs": []
    },
    {
      "cell_type": "code",
      "source": [
        "final=find_s(data)\n",
        "print(final)"
      ],
      "metadata": {
        "colab": {
          "base_uri": "https://localhost:8080/"
        },
        "id": "bAyosoUGcTXr",
        "outputId": "33bc28f0-90dc-4239-e19c-b7cb03ce44b0"
      },
      "execution_count": 34,
      "outputs": [
        {
          "output_type": "stream",
          "name": "stdout",
          "text": [
            "['Yes' '?' '?' '?']\n"
          ]
        }
      ]
    },
    {
      "cell_type": "code",
      "source": [],
      "metadata": {
        "id": "_5MbdOQ2cZag"
      },
      "execution_count": null,
      "outputs": []
    }
  ]
}